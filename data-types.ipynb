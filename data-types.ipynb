{
 "cells": [
  {
   "cell_type": "markdown",
   "id": "dc3c07f7",
   "metadata": {},
   "source": [
    "# Basic data types\n",
    "\n",
    "Data types represent different kinds of data that can be processed. Just as in the real world where we differentiate between types of data – for example, the difference between names, ages, and salaries – in computer programming, we categorize data into specific types for processing."
   ]
  },
  {
   "cell_type": "markdown",
   "id": "ce38026f",
   "metadata": {},
   "source": [
    "# 1. Integers\n",
    "\n",
    "## Number bases\n",
    "- Binary (Base 2): Introduced by 0b or 0B.\n",
    "- Octal (Base 8): Introduced by 0o or 0O.\n",
    "- Hexadecimal (Base 16): Introduced by 0x or 0X.\n",
    "\n",
    "# 2. Floating-point Numbers\n",
    "- 1.3\n",
    "\n",
    "# 3. Complx numbers\n",
    "- 4+5j\n",
    "\n",
    "# 4. Strings\n",
    "\"I am a string.\"\n",
    "\n",
    "- Including Quotes in Strings:\n",
    "You can put a single quote if you used doubl quote or vice versa\n",
    "\n",
    "### Escape Sequences in Strings\n",
    "Escape sequences let you include special characters in your strings. These sequences begin with a backslash (\\) followed by the character you want to add to the string.\n",
    "\n",
    "#### Some useful escape sequences include:\n",
    "\n",
    "`\\t`: Tab\n",
    "`\\n`: Newline\n",
    "`\\\\`: Backslash\n",
    "`\\'`: Single quote\n",
    "`\\\"`: Double quote\n",
    "\n",
    "### Raw strings\n",
    "Raw strings treat backslashes as literal backslashes and do not interpret them as escape sequences.\n",
    "To create a raw string, prefix your string with an `r` or `R`:\n",
    "```bash\n",
    "print(r'I want books\\others')\n",
    "```\n",
    "I want books\\others\n",
    "\n",
    "\n",
    "### Triple-Quoted Strings\n",
    "```bash\n",
    "print('''This is a new ' book''')\n",
    "```\n",
    "This is a new ' book\n",
    "\n",
    "# 5. Boolean Type\n",
    "It is essential part of logical operations and decision-making constructs in programming with valuse 'True' and 'False'\n"
   ]
  }
 ],
 "metadata": {
  "kernelspec": {
   "display_name": "tmp-may",
   "language": "python",
   "name": "python3"
  },
  "language_info": {
   "name": "python",
   "version": "3.13.3"
  }
 },
 "nbformat": 4,
 "nbformat_minor": 5
}
