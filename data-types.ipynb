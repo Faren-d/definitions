{
 "cells": [
  {
   "cell_type": "markdown",
   "id": "dc3c07f7",
   "metadata": {},
   "source": [
    "# Basic data types\n",
    "\n",
    "lksdjfhlkdfjg"
   ]
  }
 ],
 "metadata": {
  "kernelspec": {
   "display_name": "tmp-may",
   "language": "python",
   "name": "python3"
  },
  "language_info": {
   "name": "python",
   "version": "3.13.3"
  }
 },
 "nbformat": 4,
 "nbformat_minor": 5
}
